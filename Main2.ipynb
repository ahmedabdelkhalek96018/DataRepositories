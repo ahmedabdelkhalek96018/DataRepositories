{
 "cells": [
  {
   "cell_type": "code",
   "execution_count": 1,
   "id": "d123daad",
   "metadata": {},
   "outputs": [],
   "source": [
    "import pandas as pd\n",
    "from pandas import DataFrame\n",
    "import numpy as np\n",
    "from bs4 import BeautifulSoup\n",
    "import os\n",
    "import datetime \n",
    "from datetime import datetime"
   ]
  },
  {
   "cell_type": "code",
   "execution_count": null,
   "id": "22609741",
   "metadata": {},
   "outputs": [],
   "source": []
  },
  {
   "cell_type": "code",
   "execution_count": 2,
   "id": "2458d581",
   "metadata": {},
   "outputs": [],
   "source": [
    "filepath = [\"Video Transcripts/104104320696.xml\",\n",
    "          \"Video Transcripts/105165259457.xml\", \n",
    "          \"Video Transcripts/106179801401.xml\",\n",
    "          \"Video Transcripts/106196394262.xml\",\n",
    "          \"Video Transcripts/107127615915.xml\",\n",
    "          \"Video Transcripts/107159298179.xml\",\n",
    "          \"Video Transcripts/108196894364.xml\",\n",
    "          \"Video Transcripts/120194853836.xml\",\n",
    "          \"Video Transcripts/124176839832.xml\",\n",
    "          \"Video Transcripts/128157247672.xml\",]\n",
    "\n"
   ]
  },
  {
   "cell_type": "code",
   "execution_count": 6,
   "id": "6814b34f",
   "metadata": {},
   "outputs": [],
   "source": [
    "for item in filepath:\n",
    "    with open(item) as fp:\n",
    "        soup = BeautifulSoup(fp,'lxml')\n",
    "    data = []\n",
    "    for question in soup.find_all('question'):\n",
    "        question_id = question.get('id')\n",
    "        media_identifier = question.get('media_identifier')\n",
    "        question_title = question.find('question_title')\n",
    "        for question in soup.find_all('question'):   \n",
    "            for item in question.find_all('p'):\n",
    "                for time in item.find_all('s'):\n",
    "                    start_time = time.get('start_time')\n",
    "                    end_time = time.get('end_time')\n",
    "        data.append((question_id, media_identifier, question_title , start_time , end_time))\n",
    "        df = DataFrame(data,columns=['id','media_identifier','question_title','start_time','end_time'])\n",
    "    \n",
    "    df\n",
    "    df.to_csv('Video Transcripts/ou.csv')\n",
    "\n"
   ]
  },
  {
   "cell_type": "code",
   "execution_count": 7,
   "id": "8b3ef72e",
   "metadata": {},
   "outputs": [
    {
     "data": {
      "text/html": [
       "<div>\n",
       "<style scoped>\n",
       "    .dataframe tbody tr th:only-of-type {\n",
       "        vertical-align: middle;\n",
       "    }\n",
       "\n",
       "    .dataframe tbody tr th {\n",
       "        vertical-align: top;\n",
       "    }\n",
       "\n",
       "    .dataframe thead th {\n",
       "        text-align: right;\n",
       "    }\n",
       "</style>\n",
       "<table border=\"1\" class=\"dataframe\">\n",
       "  <thead>\n",
       "    <tr style=\"text-align: right;\">\n",
       "      <th></th>\n",
       "      <th>id</th>\n",
       "      <th>media_identifier</th>\n",
       "      <th>question_title</th>\n",
       "      <th>start_time</th>\n",
       "      <th>end_time</th>\n",
       "    </tr>\n",
       "  </thead>\n",
       "  <tbody>\n",
       "    <tr>\n",
       "      <th>0</th>\n",
       "      <td></td>\n",
       "      <td></td>\n",
       "      <td>[]</td>\n",
       "      <td>00:13:41.260</td>\n",
       "      <td>00:13:45.060</td>\n",
       "    </tr>\n",
       "    <tr>\n",
       "      <th>1</th>\n",
       "      <td>383178370323</td>\n",
       "      <td>706103248382</td>\n",
       "      <td>[Finding the Angle of Elevation]</td>\n",
       "      <td>00:13:41.260</td>\n",
       "      <td>00:13:45.060</td>\n",
       "    </tr>\n",
       "    <tr>\n",
       "      <th>2</th>\n",
       "      <td></td>\n",
       "      <td></td>\n",
       "      <td>[]</td>\n",
       "      <td>00:13:41.260</td>\n",
       "      <td>00:13:45.060</td>\n",
       "    </tr>\n",
       "  </tbody>\n",
       "</table>\n",
       "</div>"
      ],
      "text/plain": [
       "             id media_identifier                    question_title  \\\n",
       "0                                                               []   \n",
       "1  383178370323     706103248382  [Finding the Angle of Elevation]   \n",
       "2                                                               []   \n",
       "\n",
       "     start_time      end_time  \n",
       "0  00:13:41.260  00:13:45.060  \n",
       "1  00:13:41.260  00:13:45.060  \n",
       "2  00:13:41.260  00:13:45.060  "
      ]
     },
     "execution_count": 7,
     "metadata": {},
     "output_type": "execute_result"
    }
   ],
   "source": [
    "df"
   ]
  },
  {
   "cell_type": "code",
   "execution_count": null,
   "id": "0958852f",
   "metadata": {},
   "outputs": [],
   "source": []
  }
 ],
 "metadata": {
  "kernelspec": {
   "display_name": "Python 3",
   "language": "python",
   "name": "python3"
  },
  "language_info": {
   "codemirror_mode": {
    "name": "ipython",
    "version": 3
   },
   "file_extension": ".py",
   "mimetype": "text/x-python",
   "name": "python",
   "nbconvert_exporter": "python",
   "pygments_lexer": "ipython3",
   "version": "3.9.5"
  }
 },
 "nbformat": 4,
 "nbformat_minor": 5
}
